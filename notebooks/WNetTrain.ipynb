{
 "cells": [
  {
   "cell_type": "code",
   "execution_count": 5,
   "metadata": {},
   "outputs": [
    {
     "name": "stdout",
     "output_type": "stream",
     "text": [
      "---------------------------\n",
      " GPU | Memory-usage    \n",
      "---------------------------\n",
      "  0  | 04896MiB / 40537MiB\n",
      "  1  | 04476MiB / 40537MiB\n",
      "  2  | 00003MiB / 40537MiB\n",
      "  3  | 00003MiB / 40537MiB\n",
      "  4  | 00003MiB / 40537MiB\n",
      "  5  | 00003MiB / 40537MiB\n",
      "  6  | 00003MiB / 40537MiB\n",
      "  7  | 00003MiB / 40537MiB\n",
      "---------------------------\n",
      " Device set to cuda:2\n",
      "---------------------------\n"
     ]
    }
   ],
   "source": [
    "# imports \n",
    "import time\n",
    "import os, sys, glob\n",
    "import math\n",
    "import numpy as np \n",
    "import pandas as pd\n",
    "import matplotlib.pyplot as plt\n",
    "import torch\n",
    "\n",
    "from tqdm.auto import tqdm\n",
    "from PIL import Image\n",
    "from importlib import reload\n",
    "from torch.utils.data import DataLoader\n",
    "from IPython.display import clear_output\n",
    "\n",
    "# custom imports\n",
    "sys.path.append('../')\n",
    "\n",
    "from utils.GetLowestGPU import GetLowestGPU\n",
    "from utils.GetLR import get_lr\n",
    "import utils.BuildWNet as BuildWNet\n",
    "import utils.TileGenerator as TG\n",
    "\n",
    "# get device\n",
    "device = torch.device(GetLowestGPU(verbose=2))"
   ]
  },
  {
   "cell_type": "markdown",
   "metadata": {},
   "source": [
    "# Load And Visualize Data"
   ]
  },
  {
   "cell_type": "code",
   "execution_count": null,
   "metadata": {},
   "outputs": [],
   "source": []
  },
  {
   "cell_type": "markdown",
   "metadata": {},
   "source": [
    "# Create Model"
   ]
  },
  {
   "cell_type": "code",
   "execution_count": 19,
   "metadata": {},
   "outputs": [
    {
     "data": {
      "text/plain": [
       "torch.Size([1, 2, 224, 224])"
      ]
     },
     "execution_count": 19,
     "metadata": {},
     "output_type": "execute_result"
    }
   ],
   "source": [
    "# instantiate w-net\n",
    "reload(BuildWNet)\n",
    "wnet = BuildWNet.WNet().to(device)\n",
    "\n",
    "# test w/ random patch\n",
    "# generate random patch 224 x 224 x 3\n",
    "patch = torch.rand((1,3,224,224)).to(device)\n",
    "\n",
    "out = wnet(patch)\n",
    "out[1].size()\n",
    "out[0].size()``"
   ]
  },
  {
   "cell_type": "code",
   "execution_count": null,
   "metadata": {},
   "outputs": [],
   "source": []
  },
  {
   "cell_type": "markdown",
   "metadata": {},
   "source": [
    "# Define Loss Function"
   ]
  },
  {
   "cell_type": "markdown",
   "metadata": {},
   "source": [
    "# Train Model"
   ]
  }
 ],
 "metadata": {
  "kernelspec": {
   "display_name": ".venv",
   "language": "python",
   "name": "python3"
  },
  "language_info": {
   "codemirror_mode": {
    "name": "ipython",
    "version": 3
   },
   "file_extension": ".py",
   "mimetype": "text/x-python",
   "name": "python",
   "nbconvert_exporter": "python",
   "pygments_lexer": "ipython3",
   "version": "3.8.10"
  }
 },
 "nbformat": 4,
 "nbformat_minor": 2
}
