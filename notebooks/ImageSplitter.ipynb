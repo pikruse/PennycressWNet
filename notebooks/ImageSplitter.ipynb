{
 "cells": [
  {
   "cell_type": "code",
   "execution_count": 35,
   "metadata": {},
   "outputs": [],
   "source": [
    "# import necessary packages\n",
    "import os, sys\n",
    "import glob\n",
    "import numpy as np\n",
    "import matplotlib.pyplot as plt\n",
    "import multiprocessing as mp\n",
    "\n",
    "from tqdm.auto import tqdm\n",
    "from ipywidgets import FloatProgress\n",
    "from PIL import Image\n",
    "from scipy import ndimage\n",
    "from importlib import reload\n",
    "from scipy.ndimage import distance_transform_edt, binary_dilation\n",
    "\n",
    "sys.path.append('../')\n",
    "\n",
    "# custom imports\n",
    "import utils.Preprocessing as Preprocessing"
   ]
  },
  {
   "cell_type": "code",
   "execution_count": 36,
   "metadata": {},
   "outputs": [],
   "source": [
    "# options\n",
    "image_path = \"../data/train/images/\"\n",
    "image_save_path = \"../data/train/images_by_pod/\"\n",
    "\n",
    "plot = False\n",
    "save = True\n",
    "\n",
    "# load image data\n",
    "image_names = glob.glob(image_path + \"*.png\")\n",
    "image_names = [os.path.basename(x) for x in image_names]"
   ]
  },
  {
   "cell_type": "code",
   "execution_count": 40,
   "metadata": {},
   "outputs": [
    {
     "name": "stdout",
     "output_type": "stream",
     "text": [
      "Image Splitting Complete!\n"
     ]
    }
   ],
   "source": [
    "# processing images in parallel\n",
    "reload(Preprocessing)\n",
    "with mp.Pool() as pool:\n",
    "    pool.map(Preprocessing.split_image, image_names)\n",
    "print(\"Image Splitting Complete!\")"
   ]
  }
 ],
 "metadata": {
  "kernelspec": {
   "display_name": "my_env",
   "language": "python",
   "name": "python3"
  },
  "language_info": {
   "codemirror_mode": {
    "name": "ipython",
    "version": 3
   },
   "file_extension": ".py",
   "mimetype": "text/x-python",
   "name": "python",
   "nbconvert_exporter": "python",
   "pygments_lexer": "ipython3",
   "version": "3.8.10"
  },
  "orig_nbformat": 4
 },
 "nbformat": 4,
 "nbformat_minor": 2
}
