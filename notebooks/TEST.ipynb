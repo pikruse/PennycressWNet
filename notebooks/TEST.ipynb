{
 "cells": [
  {
   "cell_type": "code",
   "execution_count": 17,
   "metadata": {},
   "outputs": [
    {
     "name": "stdout",
     "output_type": "stream",
     "text": [
      "---------------------------\n",
      " GPU | Memory-usage    \n",
      "---------------------------\n",
      "  0  | 00422MiB / 40537MiB\n",
      "  1  | 00003MiB / 40537MiB\n",
      "  2  | 00003MiB / 40537MiB\n",
      "  3  | 00003MiB / 40537MiB\n",
      "  4  | 00003MiB / 40537MiB\n",
      "  5  | 04518MiB / 40537MiB\n",
      "  6  | 00003MiB / 40537MiB\n",
      "  7  | 00003MiB / 40537MiB\n",
      "---------------------------\n",
      " Device set to cuda:1\n",
      "---------------------------\n"
     ]
    }
   ],
   "source": [
    "# imports \n",
    "import time\n",
    "import os, sys, glob\n",
    "import cv2\n",
    "import math\n",
    "import numpy as np \n",
    "import pandas as pd\n",
    "import matplotlib.pyplot as plt\n",
    "import torch\n",
    "\n",
    "from tqdm.auto import tqdm\n",
    "from PIL import Image, ImageFile\n",
    "from importlib import reload\n",
    "from torch.utils.data import DataLoader\n",
    "from IPython.display import clear_output\n",
    "from scipy.ndimage import distance_transform_edt, binary_dilation\n",
    "\n",
    "# custom imports\n",
    "sys.path.append('../')\n",
    "\n",
    "from utils.GetLowestGPU import GetLowestGPU\n",
    "from utils.GetLR import get_lr\n",
    "import utils.BuildWNet as BuildWNet\n",
    "import utils.WNetTileGenerator as TG\n",
    "import utils.Loss as Loss\n",
    "import utils.Train as Train\n",
    "\n",
    "# get device\n",
    "device = torch.device(GetLowestGPU(verbose=2))"
   ]
  },
  {
   "cell_type": "code",
   "execution_count": 21,
   "metadata": {},
   "outputs": [
    {
     "data": {
      "text/plain": [
       "<matplotlib.image.AxesImage at 0x7f57705a8b80>"
      ]
     },
     "execution_count": 21,
     "metadata": {},
     "output_type": "execute_result"
    },
    {
     "data": {
      "image/png": "[encoded data removed]",
      "text/plain": [
       "<Figure size 640x480 with 1 Axes>"
      ]
     },
     "metadata": {},
     "output_type": "display_data"
    }
   ],
   "source": [
    "test_image = Image.open('../data/train/images_by_pod/8.tt8t x fc6-8.G.WBP-2022.W_0.png')\n",
    "test_image = np.array(test_image) / 225.0\n",
    "test_image = test_image.sum(-1) > 1\n",
    "test_image = binary_dilation(test_image, iterations = 2)\n",
    "test_image = ~test_image\n",
    "plt.imshow(test_image)"
   ]
  },
  {
   "cell_type": "code",
   "execution_count": 5,
   "metadata": {},
   "outputs": [
    {
     "ename": "error",
     "evalue": "OpenCV(4.8.1) /io/opencv/modules/imgproc/src/thresh.cpp:1555: error: (-2:Unspecified error) in function 'double cv::threshold(cv::InputArray, cv::OutputArray, double, double, int)'\n> THRESH_OTSU mode:\n>     'src_type == CV_8UC1 || src_type == CV_16UC1'\n> where\n>     'src_type' is 22 (CV_64FC3)\n",
     "output_type": "error",
     "traceback": [
      "\u001b[0;31m---------------------------------------------------------------------------\u001b[0m",
      "\u001b[0;31merror\u001b[0m                                     Traceback (most recent call last)",
      "Cell \u001b[0;32mIn[5], line 1\u001b[0m\n\u001b[0;32m----> 1\u001b[0m m \u001b[38;5;241m=\u001b[39m \u001b[43mcv2\u001b[49m\u001b[38;5;241;43m.\u001b[39;49m\u001b[43mthreshold\u001b[49m\u001b[43m(\u001b[49m\u001b[43mtest_image\u001b[49m\u001b[43m,\u001b[49m\u001b[43m \u001b[49m\u001b[38;5;241;43m0.5\u001b[39;49m\u001b[43m,\u001b[49m\u001b[43m \u001b[49m\u001b[38;5;241;43m1\u001b[39;49m\u001b[43m,\u001b[49m\u001b[43m \u001b[49m\u001b[43mcv2\u001b[49m\u001b[38;5;241;43m.\u001b[39;49m\u001b[43mTHRESH_BINARY_INV\u001b[49m\u001b[43m \u001b[49m\u001b[38;5;241;43m|\u001b[39;49m\u001b[43m \u001b[49m\u001b[43mcv2\u001b[49m\u001b[38;5;241;43m.\u001b[39;49m\u001b[43mTHRESH_OTSU\u001b[49m\u001b[43m)\u001b[49m[\u001b[38;5;241m1\u001b[39m]\n\u001b[1;32m      2\u001b[0m plt\u001b[38;5;241m.\u001b[39mimshow(m)\n",
      "\u001b[0;31merror\u001b[0m: OpenCV(4.8.1) /io/opencv/modules/imgproc/src/thresh.cpp:1555: error: (-2:Unspecified error) in function 'double cv::threshold(cv::InputArray, cv::OutputArray, double, double, int)'\n> THRESH_OTSU mode:\n>     'src_type == CV_8UC1 || src_type == CV_16UC1'\n> where\n>     'src_type' is 22 (CV_64FC3)\n"
     ]
    }
   ],
   "source": []
  }
 ],
 "metadata": {
  "kernelspec": {
   "display_name": ".venv",
   "language": "python",
   "name": "python3"
  },
  "language_info": {
   "codemirror_mode": {
    "name": "ipython",
    "version": 3
   },
   "file_extension": ".py",
   "mimetype": "text/x-python",
   "name": "python",
   "nbconvert_exporter": "python",
   "pygments_lexer": "ipython3",
   "version": "3.8.10"
  }
 },
 "nbformat": 4,
 "nbformat_minor": 2
}
